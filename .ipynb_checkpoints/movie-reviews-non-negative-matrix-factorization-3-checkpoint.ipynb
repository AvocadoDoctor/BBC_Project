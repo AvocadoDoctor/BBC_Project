{
 "cells": [
  {
   "cell_type": "code",
   "execution_count": 1,
   "metadata": {
    "_cell_guid": "b1076dfc-b9ad-4769-8c92-a6c4dae69d19",
    "_uuid": "8f2839f25d086af736a60e9eeb907d3b93b6e0e5",
    "execution": {
     "iopub.execute_input": "2023-06-17T10:31:15.969058Z",
     "iopub.status.busy": "2023-06-17T10:31:15.968561Z",
     "iopub.status.idle": "2023-06-17T10:31:15.977206Z",
     "shell.execute_reply": "2023-06-17T10:31:15.975607Z",
     "shell.execute_reply.started": "2023-06-17T10:31:15.969022Z"
    }
   },
   "outputs": [],
   "source": [
    "import numpy as np\n",
    "import pandas as pd\n",
    "from sklearn.decomposition import NMF\n",
    "import itertools\n",
    "from sklearn.metrics import accuracy_score, mean_squared_error\n",
    "from functools import reduce\n",
    "import operator\n",
    "import matplotlib.pyplot as plt"
   ]
  },
  {
   "cell_type": "markdown",
   "metadata": {},
   "source": [
    "# PART 1"
   ]
  },
  {
   "cell_type": "code",
   "execution_count": 213,
   "metadata": {
    "execution": {
     "iopub.execute_input": "2023-06-17T10:31:15.980541Z",
     "iopub.status.busy": "2023-06-17T10:31:15.980150Z",
     "iopub.status.idle": "2023-06-17T10:31:25.474947Z",
     "shell.execute_reply": "2023-06-17T10:31:25.473946Z",
     "shell.execute_reply.started": "2023-06-17T10:31:15.980509Z"
    }
   },
   "outputs": [],
   "source": [
    "df_movies = pd.read_csv('/kaggle/input/movielens-1m-dataset/movies.dat', sep = \"::\", names = ['MovieID', 'Title', 'Genres'], encoding='latin-1', engine='python')\n",
    "df_ratings = pd.read_csv('/kaggle/input/movielens-1m-dataset/ratings.dat', sep = \"::\", names = ['UserID', 'MovieID', 'Rating', 'Timestamp'], encoding='latin-1', engine='python')\n",
    "df_users = pd.read_csv('/kaggle/input/movielens-1m-dataset/users.dat', sep = \"::\", names = ['UserID', 'Gender', 'Age', 'Occupation', 'Zip-code'], encoding='latin-1', engine='python')"
   ]
  },
  {
   "cell_type": "code",
   "execution_count": 214,
   "metadata": {
    "execution": {
     "iopub.execute_input": "2023-06-17T10:31:25.477141Z",
     "iopub.status.busy": "2023-06-17T10:31:25.476782Z",
     "iopub.status.idle": "2023-06-17T10:31:25.494690Z",
     "shell.execute_reply": "2023-06-17T10:31:25.493508Z",
     "shell.execute_reply.started": "2023-06-17T10:31:25.477112Z"
    }
   },
   "outputs": [
    {
     "data": {
      "text/html": [
       "<div>\n",
       "<style scoped>\n",
       "    .dataframe tbody tr th:only-of-type {\n",
       "        vertical-align: middle;\n",
       "    }\n",
       "\n",
       "    .dataframe tbody tr th {\n",
       "        vertical-align: top;\n",
       "    }\n",
       "\n",
       "    .dataframe thead th {\n",
       "        text-align: right;\n",
       "    }\n",
       "</style>\n",
       "<table border=\"1\" class=\"dataframe\">\n",
       "  <thead>\n",
       "    <tr style=\"text-align: right;\">\n",
       "      <th></th>\n",
       "      <th>UserID</th>\n",
       "      <th>Gender</th>\n",
       "      <th>Age</th>\n",
       "      <th>Occupation</th>\n",
       "      <th>Zip-code</th>\n",
       "    </tr>\n",
       "  </thead>\n",
       "  <tbody>\n",
       "    <tr>\n",
       "      <th>0</th>\n",
       "      <td>1</td>\n",
       "      <td>F</td>\n",
       "      <td>1</td>\n",
       "      <td>10</td>\n",
       "      <td>48067</td>\n",
       "    </tr>\n",
       "    <tr>\n",
       "      <th>1</th>\n",
       "      <td>2</td>\n",
       "      <td>M</td>\n",
       "      <td>56</td>\n",
       "      <td>16</td>\n",
       "      <td>70072</td>\n",
       "    </tr>\n",
       "    <tr>\n",
       "      <th>2</th>\n",
       "      <td>3</td>\n",
       "      <td>M</td>\n",
       "      <td>25</td>\n",
       "      <td>15</td>\n",
       "      <td>55117</td>\n",
       "    </tr>\n",
       "    <tr>\n",
       "      <th>3</th>\n",
       "      <td>4</td>\n",
       "      <td>M</td>\n",
       "      <td>45</td>\n",
       "      <td>7</td>\n",
       "      <td>02460</td>\n",
       "    </tr>\n",
       "    <tr>\n",
       "      <th>4</th>\n",
       "      <td>5</td>\n",
       "      <td>M</td>\n",
       "      <td>25</td>\n",
       "      <td>20</td>\n",
       "      <td>55455</td>\n",
       "    </tr>\n",
       "    <tr>\n",
       "      <th>...</th>\n",
       "      <td>...</td>\n",
       "      <td>...</td>\n",
       "      <td>...</td>\n",
       "      <td>...</td>\n",
       "      <td>...</td>\n",
       "    </tr>\n",
       "    <tr>\n",
       "      <th>6035</th>\n",
       "      <td>6036</td>\n",
       "      <td>F</td>\n",
       "      <td>25</td>\n",
       "      <td>15</td>\n",
       "      <td>32603</td>\n",
       "    </tr>\n",
       "    <tr>\n",
       "      <th>6036</th>\n",
       "      <td>6037</td>\n",
       "      <td>F</td>\n",
       "      <td>45</td>\n",
       "      <td>1</td>\n",
       "      <td>76006</td>\n",
       "    </tr>\n",
       "    <tr>\n",
       "      <th>6037</th>\n",
       "      <td>6038</td>\n",
       "      <td>F</td>\n",
       "      <td>56</td>\n",
       "      <td>1</td>\n",
       "      <td>14706</td>\n",
       "    </tr>\n",
       "    <tr>\n",
       "      <th>6038</th>\n",
       "      <td>6039</td>\n",
       "      <td>F</td>\n",
       "      <td>45</td>\n",
       "      <td>0</td>\n",
       "      <td>01060</td>\n",
       "    </tr>\n",
       "    <tr>\n",
       "      <th>6039</th>\n",
       "      <td>6040</td>\n",
       "      <td>M</td>\n",
       "      <td>25</td>\n",
       "      <td>6</td>\n",
       "      <td>11106</td>\n",
       "    </tr>\n",
       "  </tbody>\n",
       "</table>\n",
       "<p>6040 rows × 5 columns</p>\n",
       "</div>"
      ],
      "text/plain": [
       "      UserID Gender  Age  Occupation Zip-code\n",
       "0          1      F    1          10    48067\n",
       "1          2      M   56          16    70072\n",
       "2          3      M   25          15    55117\n",
       "3          4      M   45           7    02460\n",
       "4          5      M   25          20    55455\n",
       "...      ...    ...  ...         ...      ...\n",
       "6035    6036      F   25          15    32603\n",
       "6036    6037      F   45           1    76006\n",
       "6037    6038      F   56           1    14706\n",
       "6038    6039      F   45           0    01060\n",
       "6039    6040      M   25           6    11106\n",
       "\n",
       "[6040 rows x 5 columns]"
      ]
     },
     "execution_count": 214,
     "metadata": {},
     "output_type": "execute_result"
    }
   ],
   "source": [
    "df_users"
   ]
  },
  {
   "cell_type": "code",
   "execution_count": 215,
   "metadata": {
    "execution": {
     "iopub.execute_input": "2023-06-17T10:31:25.497659Z",
     "iopub.status.busy": "2023-06-17T10:31:25.496464Z",
     "iopub.status.idle": "2023-06-17T10:31:25.515646Z",
     "shell.execute_reply": "2023-06-17T10:31:25.514569Z",
     "shell.execute_reply.started": "2023-06-17T10:31:25.497615Z"
    }
   },
   "outputs": [
    {
     "data": {
      "text/html": [
       "<div>\n",
       "<style scoped>\n",
       "    .dataframe tbody tr th:only-of-type {\n",
       "        vertical-align: middle;\n",
       "    }\n",
       "\n",
       "    .dataframe tbody tr th {\n",
       "        vertical-align: top;\n",
       "    }\n",
       "\n",
       "    .dataframe thead th {\n",
       "        text-align: right;\n",
       "    }\n",
       "</style>\n",
       "<table border=\"1\" class=\"dataframe\">\n",
       "  <thead>\n",
       "    <tr style=\"text-align: right;\">\n",
       "      <th></th>\n",
       "      <th>UserID</th>\n",
       "      <th>MovieID</th>\n",
       "      <th>Rating</th>\n",
       "      <th>Timestamp</th>\n",
       "    </tr>\n",
       "  </thead>\n",
       "  <tbody>\n",
       "    <tr>\n",
       "      <th>0</th>\n",
       "      <td>1</td>\n",
       "      <td>1193</td>\n",
       "      <td>5</td>\n",
       "      <td>978300760</td>\n",
       "    </tr>\n",
       "    <tr>\n",
       "      <th>1</th>\n",
       "      <td>1</td>\n",
       "      <td>661</td>\n",
       "      <td>3</td>\n",
       "      <td>978302109</td>\n",
       "    </tr>\n",
       "    <tr>\n",
       "      <th>2</th>\n",
       "      <td>1</td>\n",
       "      <td>914</td>\n",
       "      <td>3</td>\n",
       "      <td>978301968</td>\n",
       "    </tr>\n",
       "    <tr>\n",
       "      <th>3</th>\n",
       "      <td>1</td>\n",
       "      <td>3408</td>\n",
       "      <td>4</td>\n",
       "      <td>978300275</td>\n",
       "    </tr>\n",
       "    <tr>\n",
       "      <th>4</th>\n",
       "      <td>1</td>\n",
       "      <td>2355</td>\n",
       "      <td>5</td>\n",
       "      <td>978824291</td>\n",
       "    </tr>\n",
       "    <tr>\n",
       "      <th>...</th>\n",
       "      <td>...</td>\n",
       "      <td>...</td>\n",
       "      <td>...</td>\n",
       "      <td>...</td>\n",
       "    </tr>\n",
       "    <tr>\n",
       "      <th>1000204</th>\n",
       "      <td>6040</td>\n",
       "      <td>1091</td>\n",
       "      <td>1</td>\n",
       "      <td>956716541</td>\n",
       "    </tr>\n",
       "    <tr>\n",
       "      <th>1000205</th>\n",
       "      <td>6040</td>\n",
       "      <td>1094</td>\n",
       "      <td>5</td>\n",
       "      <td>956704887</td>\n",
       "    </tr>\n",
       "    <tr>\n",
       "      <th>1000206</th>\n",
       "      <td>6040</td>\n",
       "      <td>562</td>\n",
       "      <td>5</td>\n",
       "      <td>956704746</td>\n",
       "    </tr>\n",
       "    <tr>\n",
       "      <th>1000207</th>\n",
       "      <td>6040</td>\n",
       "      <td>1096</td>\n",
       "      <td>4</td>\n",
       "      <td>956715648</td>\n",
       "    </tr>\n",
       "    <tr>\n",
       "      <th>1000208</th>\n",
       "      <td>6040</td>\n",
       "      <td>1097</td>\n",
       "      <td>4</td>\n",
       "      <td>956715569</td>\n",
       "    </tr>\n",
       "  </tbody>\n",
       "</table>\n",
       "<p>1000209 rows × 4 columns</p>\n",
       "</div>"
      ],
      "text/plain": [
       "         UserID  MovieID  Rating  Timestamp\n",
       "0             1     1193       5  978300760\n",
       "1             1      661       3  978302109\n",
       "2             1      914       3  978301968\n",
       "3             1     3408       4  978300275\n",
       "4             1     2355       5  978824291\n",
       "...         ...      ...     ...        ...\n",
       "1000204    6040     1091       1  956716541\n",
       "1000205    6040     1094       5  956704887\n",
       "1000206    6040      562       5  956704746\n",
       "1000207    6040     1096       4  956715648\n",
       "1000208    6040     1097       4  956715569\n",
       "\n",
       "[1000209 rows x 4 columns]"
      ]
     },
     "execution_count": 215,
     "metadata": {},
     "output_type": "execute_result"
    }
   ],
   "source": [
    "df_ratings"
   ]
  },
  {
   "cell_type": "code",
   "execution_count": 216,
   "metadata": {
    "execution": {
     "iopub.execute_input": "2023-06-17T10:31:25.519779Z",
     "iopub.status.busy": "2023-06-17T10:31:25.519000Z",
     "iopub.status.idle": "2023-06-17T10:31:25.533375Z",
     "shell.execute_reply": "2023-06-17T10:31:25.532140Z",
     "shell.execute_reply.started": "2023-06-17T10:31:25.519734Z"
    }
   },
   "outputs": [
    {
     "data": {
      "text/html": [
       "<div>\n",
       "<style scoped>\n",
       "    .dataframe tbody tr th:only-of-type {\n",
       "        vertical-align: middle;\n",
       "    }\n",
       "\n",
       "    .dataframe tbody tr th {\n",
       "        vertical-align: top;\n",
       "    }\n",
       "\n",
       "    .dataframe thead th {\n",
       "        text-align: right;\n",
       "    }\n",
       "</style>\n",
       "<table border=\"1\" class=\"dataframe\">\n",
       "  <thead>\n",
       "    <tr style=\"text-align: right;\">\n",
       "      <th></th>\n",
       "      <th>MovieID</th>\n",
       "      <th>Title</th>\n",
       "      <th>Genres</th>\n",
       "    </tr>\n",
       "  </thead>\n",
       "  <tbody>\n",
       "    <tr>\n",
       "      <th>0</th>\n",
       "      <td>1</td>\n",
       "      <td>Toy Story (1995)</td>\n",
       "      <td>Animation|Children's|Comedy</td>\n",
       "    </tr>\n",
       "    <tr>\n",
       "      <th>1</th>\n",
       "      <td>2</td>\n",
       "      <td>Jumanji (1995)</td>\n",
       "      <td>Adventure|Children's|Fantasy</td>\n",
       "    </tr>\n",
       "    <tr>\n",
       "      <th>2</th>\n",
       "      <td>3</td>\n",
       "      <td>Grumpier Old Men (1995)</td>\n",
       "      <td>Comedy|Romance</td>\n",
       "    </tr>\n",
       "    <tr>\n",
       "      <th>3</th>\n",
       "      <td>4</td>\n",
       "      <td>Waiting to Exhale (1995)</td>\n",
       "      <td>Comedy|Drama</td>\n",
       "    </tr>\n",
       "    <tr>\n",
       "      <th>4</th>\n",
       "      <td>5</td>\n",
       "      <td>Father of the Bride Part II (1995)</td>\n",
       "      <td>Comedy</td>\n",
       "    </tr>\n",
       "    <tr>\n",
       "      <th>...</th>\n",
       "      <td>...</td>\n",
       "      <td>...</td>\n",
       "      <td>...</td>\n",
       "    </tr>\n",
       "    <tr>\n",
       "      <th>3878</th>\n",
       "      <td>3948</td>\n",
       "      <td>Meet the Parents (2000)</td>\n",
       "      <td>Comedy</td>\n",
       "    </tr>\n",
       "    <tr>\n",
       "      <th>3879</th>\n",
       "      <td>3949</td>\n",
       "      <td>Requiem for a Dream (2000)</td>\n",
       "      <td>Drama</td>\n",
       "    </tr>\n",
       "    <tr>\n",
       "      <th>3880</th>\n",
       "      <td>3950</td>\n",
       "      <td>Tigerland (2000)</td>\n",
       "      <td>Drama</td>\n",
       "    </tr>\n",
       "    <tr>\n",
       "      <th>3881</th>\n",
       "      <td>3951</td>\n",
       "      <td>Two Family House (2000)</td>\n",
       "      <td>Drama</td>\n",
       "    </tr>\n",
       "    <tr>\n",
       "      <th>3882</th>\n",
       "      <td>3952</td>\n",
       "      <td>Contender, The (2000)</td>\n",
       "      <td>Drama|Thriller</td>\n",
       "    </tr>\n",
       "  </tbody>\n",
       "</table>\n",
       "<p>3883 rows × 3 columns</p>\n",
       "</div>"
      ],
      "text/plain": [
       "      MovieID                               Title  \\\n",
       "0           1                    Toy Story (1995)   \n",
       "1           2                      Jumanji (1995)   \n",
       "2           3             Grumpier Old Men (1995)   \n",
       "3           4            Waiting to Exhale (1995)   \n",
       "4           5  Father of the Bride Part II (1995)   \n",
       "...       ...                                 ...   \n",
       "3878     3948             Meet the Parents (2000)   \n",
       "3879     3949          Requiem for a Dream (2000)   \n",
       "3880     3950                    Tigerland (2000)   \n",
       "3881     3951             Two Family House (2000)   \n",
       "3882     3952               Contender, The (2000)   \n",
       "\n",
       "                            Genres  \n",
       "0      Animation|Children's|Comedy  \n",
       "1     Adventure|Children's|Fantasy  \n",
       "2                   Comedy|Romance  \n",
       "3                     Comedy|Drama  \n",
       "4                           Comedy  \n",
       "...                            ...  \n",
       "3878                        Comedy  \n",
       "3879                         Drama  \n",
       "3880                         Drama  \n",
       "3881                         Drama  \n",
       "3882                Drama|Thriller  \n",
       "\n",
       "[3883 rows x 3 columns]"
      ]
     },
     "execution_count": 216,
     "metadata": {},
     "output_type": "execute_result"
    }
   ],
   "source": [
    "df_movies"
   ]
  },
  {
   "cell_type": "code",
   "execution_count": 217,
   "metadata": {
    "execution": {
     "iopub.execute_input": "2023-06-17T10:31:25.535220Z",
     "iopub.status.busy": "2023-06-17T10:31:25.534867Z",
     "iopub.status.idle": "2023-06-17T10:31:25.544922Z",
     "shell.execute_reply": "2023-06-17T10:31:25.543582Z",
     "shell.execute_reply.started": "2023-06-17T10:31:25.535192Z"
    }
   },
   "outputs": [],
   "source": [
    "def convert_movie_id_to_index(movie_id):\n",
    "    return int(df_movies.loc[df_movies['MovieID'] == movie_id].index[0])"
   ]
  },
  {
   "cell_type": "code",
   "execution_count": 218,
   "metadata": {
    "execution": {
     "iopub.execute_input": "2023-06-17T10:31:25.546991Z",
     "iopub.status.busy": "2023-06-17T10:31:25.546544Z",
     "iopub.status.idle": "2023-06-17T10:38:14.546576Z",
     "shell.execute_reply": "2023-06-17T10:38:14.545363Z",
     "shell.execute_reply.started": "2023-06-17T10:31:25.546949Z"
    }
   },
   "outputs": [],
   "source": [
    "ratings = np.zeros((len(df_users.index), len(df_movies.index)))\n",
    "\n",
    "for index, row in df_ratings.iterrows():\n",
    "    ratings[row['UserID']-1, convert_movie_id_to_index(row['MovieID'])] = row['Rating']"
   ]
  },
  {
   "cell_type": "markdown",
   "metadata": {},
   "source": [
    "Build a matrix of movie genres"
   ]
  },
  {
   "cell_type": "code",
   "execution_count": 219,
   "metadata": {
    "execution": {
     "iopub.execute_input": "2023-06-17T10:38:14.549214Z",
     "iopub.status.busy": "2023-06-17T10:38:14.548751Z",
     "iopub.status.idle": "2023-06-17T10:38:17.122642Z",
     "shell.execute_reply": "2023-06-17T10:38:17.121292Z",
     "shell.execute_reply.started": "2023-06-17T10:38:14.549171Z"
    }
   },
   "outputs": [],
   "source": [
    "genres = list(dict.fromkeys(reduce(operator.concat, df_movies['Genres'].str.split('|').to_list())))\n",
    "\n",
    "movie_genres = np.zeros((len(df_movies.index), len(genres)))\n",
    "\n",
    "for index, row in df_movies.iterrows():\n",
    "    gen = row['Genres'].split('|')\n",
    "    for genre in gen:\n",
    "        movie_genres[convert_movie_id_to_index(row['MovieID']), genres.index(genre)] = 1"
   ]
  },
  {
   "cell_type": "code",
   "execution_count": 220,
   "metadata": {
    "execution": {
     "iopub.execute_input": "2023-06-17T10:38:17.124795Z",
     "iopub.status.busy": "2023-06-17T10:38:17.124329Z",
     "iopub.status.idle": "2023-06-17T10:38:17.544203Z",
     "shell.execute_reply": "2023-06-17T10:38:17.542949Z",
     "shell.execute_reply.started": "2023-06-17T10:38:17.124752Z"
    }
   },
   "outputs": [],
   "source": [
    "ratings_with_user_averages = np.copy(ratings)\n",
    "\n",
    "for i in range(0, len(df_users.index)):\n",
    "    user_mean = ratings_with_user_averages[i][ratings_with_user_averages[i] > 0].mean()\n",
    "    ratings_with_user_averages[i][ratings_with_user_averages[i] == 0] = user_mean"
   ]
  },
  {
   "cell_type": "code",
   "execution_count": 221,
   "metadata": {
    "execution": {
     "iopub.execute_input": "2023-06-17T10:38:17.545981Z",
     "iopub.status.busy": "2023-06-17T10:38:17.545599Z",
     "iopub.status.idle": "2023-06-17T10:38:17.552933Z",
     "shell.execute_reply": "2023-06-17T10:38:17.551773Z",
     "shell.execute_reply.started": "2023-06-17T10:38:17.545951Z"
    }
   },
   "outputs": [
    {
     "name": "stdout",
     "output_type": "stream",
     "text": [
      "[[5.         4.18867925 4.18867925 ... 4.18867925 4.18867925 4.18867925]\n",
      " [3.71317829 3.71317829 3.71317829 ... 3.71317829 3.71317829 3.71317829]\n",
      " [3.90196078 3.90196078 3.90196078 ... 3.90196078 3.90196078 3.90196078]\n",
      " ...\n",
      " [3.8        3.8        3.8        ... 3.8        3.8        3.8       ]\n",
      " [3.87804878 3.87804878 3.87804878 ... 3.87804878 3.87804878 3.87804878]\n",
      " [3.         3.57771261 3.57771261 ... 3.57771261 3.57771261 3.57771261]]\n"
     ]
    }
   ],
   "source": [
    "print(ratings_with_user_averages)"
   ]
  },
  {
   "cell_type": "code",
   "execution_count": 222,
   "metadata": {
    "execution": {
     "iopub.execute_input": "2023-06-17T10:38:17.556815Z",
     "iopub.status.busy": "2023-06-17T10:38:17.556457Z",
     "iopub.status.idle": "2023-06-17T10:38:17.566875Z",
     "shell.execute_reply": "2023-06-17T10:38:17.565816Z",
     "shell.execute_reply.started": "2023-06-17T10:38:17.556776Z"
    }
   },
   "outputs": [],
   "source": [
    "X_train = ratings_with_user_averages[100:]\n",
    "X_test = ratings_with_user_averages[:100]"
   ]
  },
  {
   "cell_type": "code",
   "execution_count": 223,
   "metadata": {
    "execution": {
     "iopub.execute_input": "2023-06-17T10:38:17.568495Z",
     "iopub.status.busy": "2023-06-17T10:38:17.568155Z",
     "iopub.status.idle": "2023-06-17T10:38:26.061357Z",
     "shell.execute_reply": "2023-06-17T10:38:26.059455Z",
     "shell.execute_reply.started": "2023-06-17T10:38:17.568468Z"
    }
   },
   "outputs": [],
   "source": [
    "model = NMF(n_components=200,beta_loss='frobenius',\n",
    "            random_state = 101).fit(X_train)\n",
    "H = model.components_"
   ]
  },
  {
   "cell_type": "markdown",
   "metadata": {},
   "source": [
    "Reconstruct X_test as 'predictions' (user x movie matrix with ratings where blanks are set to mean for user)."
   ]
  },
  {
   "cell_type": "code",
   "execution_count": 224,
   "metadata": {
    "execution": {
     "iopub.execute_input": "2023-06-17T10:38:26.064310Z",
     "iopub.status.busy": "2023-06-17T10:38:26.063835Z",
     "iopub.status.idle": "2023-06-17T10:38:29.972274Z",
     "shell.execute_reply": "2023-06-17T10:38:29.970719Z",
     "shell.execute_reply.started": "2023-06-17T10:38:26.064269Z"
    }
   },
   "outputs": [
    {
     "name": "stdout",
     "output_type": "stream",
     "text": [
      "(200, 100)\n",
      "[[4.32364955 4.16576119 4.17514798 ... 4.16615793 4.21496934 4.19107087]\n",
      " [3.86887722 3.69473895 3.63644405 ... 3.69571026 3.76028156 3.74424387]\n",
      " [3.99166043 3.88987888 3.89757173 ... 3.88121551 3.89711779 3.90550464]\n",
      " ...\n",
      " [3.91037493 3.78171423 3.75058902 ... 3.78267223 3.81033748 3.80360376]\n",
      " [3.47150614 3.1562457  3.17480081 ... 3.22001181 3.23907776 3.21179434]\n",
      " [3.11319384 2.98634974 2.98660404 ... 3.02681236 3.01388095 3.02355449]]\n",
      "[[5.         4.18867925 4.18867925 ... 4.18867925 4.18867925 4.18867925]\n",
      " [3.71317829 3.71317829 3.71317829 ... 3.71317829 3.71317829 3.71317829]\n",
      " [3.90196078 3.90196078 3.90196078 ... 3.90196078 3.90196078 3.90196078]\n",
      " ...\n",
      " [3.8        3.8        3.8        ... 3.8        3.8        3.8       ]\n",
      " [3.         3.21495327 3.21495327 ... 3.21495327 3.21495327 3.21495327]\n",
      " [3.02631579 3.02631579 3.02631579 ... 3.02631579 3.02631579 3.02631579]]\n"
     ]
    },
    {
     "name": "stderr",
     "output_type": "stream",
     "text": [
      "/opt/conda/lib/python3.10/site-packages/sklearn/decomposition/_nmf.py:1665: ConvergenceWarning: Maximum number of iterations 200 reached. Increase it to improve convergence.\n",
      "  warnings.warn(\n"
     ]
    }
   ],
   "source": [
    "W = model.transform(X_test).T\n",
    "print(W.shape)\n",
    "predictions = np.dot(H.T,W)\n",
    "\n",
    "print(predictions.T)\n",
    "print(X_test)"
   ]
  },
  {
   "cell_type": "markdown",
   "metadata": {},
   "source": [
    "Build predictions list from above predict RMSE."
   ]
  },
  {
   "cell_type": "code",
   "execution_count": 225,
   "metadata": {
    "execution": {
     "iopub.execute_input": "2023-06-17T10:38:29.976410Z",
     "iopub.status.busy": "2023-06-17T10:38:29.975112Z",
     "iopub.status.idle": "2023-06-17T10:38:35.276046Z",
     "shell.execute_reply": "2023-06-17T10:38:35.274873Z",
     "shell.execute_reply.started": "2023-06-17T10:38:29.976347Z"
    }
   },
   "outputs": [
    {
     "name": "stdout",
     "output_type": "stream",
     "text": [
      "(3883, 100)\n",
      "Predictions : [4.364130646453508, 4.111280323544709, 4.238801590107731, 4.233686265989772, 4.319004044212079, 4.435313208143991, 4.213405078388304, 4.273509044562177, 4.184491089758348, 4.357307059573346]\n",
      "True : [5, 3, 3, 4, 5, 3, 5, 5, 4, 4]\n",
      "RMSE : 0.8972544857588992\n"
     ]
    }
   ],
   "source": [
    "to_predict = df_ratings[df_ratings['UserID'] < 100]\n",
    "y_true = to_predict['Rating'].to_list()\n",
    "y_pred = []\n",
    "print(predictions.shape)\n",
    "for index, row in to_predict.iterrows():\n",
    "    y_pred += [predictions.T[row['UserID']-1, convert_movie_id_to_index(row['MovieID'])]]\n",
    "    \n",
    "print('Predictions : ' + str(y_pred[:10]))\n",
    "print('True : ' + str(y_true[:10]))\n",
    "\n",
    "rmse = mean_squared_error(y_true, y_pred)\n",
    "print('RMSE : ' + str(rmse))"
   ]
  },
  {
   "cell_type": "code",
   "execution_count": 226,
   "metadata": {
    "execution": {
     "iopub.execute_input": "2023-06-17T10:38:35.277670Z",
     "iopub.status.busy": "2023-06-17T10:38:35.277274Z",
     "iopub.status.idle": "2023-06-17T10:38:41.069789Z",
     "shell.execute_reply": "2023-06-17T10:38:41.068254Z",
     "shell.execute_reply.started": "2023-06-17T10:38:35.277639Z"
    }
   },
   "outputs": [],
   "source": [
    "X_test_blanked = np.copy(X_test)\n",
    "\n",
    "for index, row in to_predict.iterrows():\n",
    "    X_test_blanked[row['UserID']-1, convert_movie_id_to_index(row['MovieID'])] = X_test[row['UserID']-1].mean()"
   ]
  },
  {
   "cell_type": "markdown",
   "metadata": {},
   "source": [
    "Compare with same data where true ratings are masked with mean value."
   ]
  },
  {
   "cell_type": "code",
   "execution_count": 227,
   "metadata": {
    "execution": {
     "iopub.execute_input": "2023-06-17T10:38:41.071562Z",
     "iopub.status.busy": "2023-06-17T10:38:41.071210Z",
     "iopub.status.idle": "2023-06-17T10:38:50.305629Z",
     "shell.execute_reply": "2023-06-17T10:38:50.304458Z",
     "shell.execute_reply.started": "2023-06-17T10:38:41.071531Z"
    }
   },
   "outputs": [
    {
     "name": "stderr",
     "output_type": "stream",
     "text": [
      "/opt/conda/lib/python3.10/site-packages/sklearn/decomposition/_nmf.py:1665: ConvergenceWarning: Maximum number of iterations 200 reached. Increase it to improve convergence.\n",
      "  warnings.warn(\n"
     ]
    },
    {
     "name": "stdout",
     "output_type": "stream",
     "text": [
      "First 10 predictions : [4.361948138863764, 4.1333764519371945, 4.198164996903395, 4.242341295694039, 4.257043908800313, 4.460055157744653, 4.198145877281272, 4.239424267572464, 4.185048562539119, 4.312549917411201]\n",
      "First 10 true ratings : [5, 3, 3, 4, 5, 3, 5, 5, 4, 4]\n",
      "RMSE : 1.026089726420725\n"
     ]
    }
   ],
   "source": [
    "y_pred = []\n",
    "W = model.transform(X_test_blanked).T\n",
    "predictions_blanked = np.dot(H.T,W)\n",
    "\n",
    "for index, row in to_predict.iterrows():\n",
    "    y_pred += [predictions_blanked.T[row['UserID']-1, convert_movie_id_to_index(row['MovieID'])]]\n",
    "    \n",
    "print('First 10 predictions : ' + str(y_pred[:10]))\n",
    "print('First 10 true ratings : ' + str(y_true[:10]))\n",
    "\n",
    "rmse_blanked = mean_squared_error(y_true, y_pred)\n",
    "print('RMSE : ' + str(rmse_blanked))"
   ]
  },
  {
   "cell_type": "markdown",
   "metadata": {},
   "source": [
    "Compare with RMSE where all predictions are set to mean value for user."
   ]
  },
  {
   "cell_type": "code",
   "execution_count": 228,
   "metadata": {
    "execution": {
     "iopub.execute_input": "2023-06-17T10:38:50.308161Z",
     "iopub.status.busy": "2023-06-17T10:38:50.307523Z",
     "iopub.status.idle": "2023-06-17T10:39:29.907990Z",
     "shell.execute_reply": "2023-06-17T10:39:29.906883Z",
     "shell.execute_reply.started": "2023-06-17T10:38:50.308121Z"
    }
   },
   "outputs": [
    {
     "name": "stdout",
     "output_type": "stream",
     "text": [
      "RMSE : 1.0447352392533193\n"
     ]
    }
   ],
   "source": [
    "y_pred_as_mean = []\n",
    "\n",
    "for index, row in to_predict.iterrows():\n",
    "    y_pred_as_mean += [df_ratings[df_ratings['UserID'] == row['UserID']].groupby('UserID').mean()['Rating']]\n",
    "\n",
    "rmse_user_average = mean_squared_error(y_true, y_pred_as_mean)\n",
    "print('RMSE : ' + str(rmse_user_average))"
   ]
  },
  {
   "cell_type": "markdown",
   "metadata": {},
   "source": [
    "And finally RMSE where all predictions are set to 3."
   ]
  },
  {
   "cell_type": "code",
   "execution_count": 229,
   "metadata": {
    "execution": {
     "iopub.execute_input": "2023-06-17T10:39:29.910265Z",
     "iopub.status.busy": "2023-06-17T10:39:29.909404Z",
     "iopub.status.idle": "2023-06-17T10:39:29.920652Z",
     "shell.execute_reply": "2023-06-17T10:39:29.919757Z",
     "shell.execute_reply.started": "2023-06-17T10:39:29.910229Z"
    }
   },
   "outputs": [
    {
     "name": "stdout",
     "output_type": "stream",
     "text": [
      "RMSE : 1.6192248062015504\n"
     ]
    }
   ],
   "source": [
    "y_pred_as_three = [3] * 12900\n",
    "\n",
    "rmse_all_threes = mean_squared_error(y_true, y_pred_as_three)\n",
    "print('RMSE : ' + str(rmse_all_threes))"
   ]
  },
  {
   "cell_type": "markdown",
   "metadata": {},
   "source": [
    "Below chart shows the RMSE (Root Mean Squared Deviation) of the different approaches.\n",
    "\n",
    "RMSE, as we know, is the square root of the sum of squared differences between the true values and the predicted values:\n",
    "\n",
    "$\\sqrt{\\sum_{i=1}^{n}{\\frac{(\\hat{y_i}-y_i)^2}{n}}}$\n",
    "\n",
    "The reason we want to square the differences and the the square root of it all is that we want the absolute value of the differences between the predicted values and the true values. If we did not use the squared differences they might cancel each other out since some could be negative and others positive."
   ]
  },
  {
   "cell_type": "code",
   "execution_count": 230,
   "metadata": {
    "execution": {
     "iopub.execute_input": "2023-06-17T10:39:29.922561Z",
     "iopub.status.busy": "2023-06-17T10:39:29.921751Z",
     "iopub.status.idle": "2023-06-17T10:39:30.190243Z",
     "shell.execute_reply": "2023-06-17T10:39:30.188905Z",
     "shell.execute_reply.started": "2023-06-17T10:39:29.922528Z"
    }
   },
   "outputs": [
    {
     "data": {
      "image/png": "[encoded data removed]",
      "text/plain": [
       "<Figure size 640x480 with 1 Axes>"
      ]
     },
     "metadata": {},
     "output_type": "display_data"
    }
   ],
   "source": [
    "fig, ax = plt.subplots()\n",
    "\n",
    "plt.bar(['Reconstructed','Rates replaced with user mean','All predictions as user mean','All predictions as 3'], \n",
    "        [rmse, rmse_blanked, rmse_user_average, rmse_all_threes], color=['red', 'orange','yellow','green'])\n",
    "plt.xticks(rotation=-10)\n",
    "plt.show()"
   ]
  },
  {
   "cell_type": "markdown",
   "metadata": {},
   "source": [
    "# PART 2"
   ]
  },
  {
   "cell_type": "markdown",
   "metadata": {},
   "source": [
    "As we see above the Non-negative Matrix Factorization does not work brilliantly on this dataset. In fact for predictions on unknown data it seems to be only marginally better than just guessing on the user average.\n",
    "\n",
    "It seems the sparsity of information is preventing the method from working optimally (except maybe as a compression method). If that is the case then grouping the users  and/or movies into smaller subsets and building models specifically for those subsets would reduce the sparcity and could improve accuracy."
   ]
  },
  {
   "cell_type": "code",
   "execution_count": null,
   "metadata": {},
   "outputs": [],
   "source": []
  }
 ],
 "metadata": {
  "kernelspec": {
   "display_name": "Python 3 (ipykernel)",
   "language": "python",
   "name": "python3"
  },
  "language_info": {
   "codemirror_mode": {
    "name": "ipython",
    "version": 3
   },
   "file_extension": ".py",
   "mimetype": "text/x-python",
   "name": "python",
   "nbconvert_exporter": "python",
   "pygments_lexer": "ipython3",
   "version": "3.9.12"
  }
 },
 "nbformat": 4,
 "nbformat_minor": 4
}
